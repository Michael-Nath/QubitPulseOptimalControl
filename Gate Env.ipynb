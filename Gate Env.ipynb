{
 "cells": [
  {
   "cell_type": "code",
   "execution_count": 1,
   "metadata": {},
   "outputs": [
    {
     "data": {
      "text/plain": [
       "'\\nprovider = IBMQ.load_account()\\narmonk = provider.get_backend(\"ibmq_armonk\")\\narmonk\\narmonk.configuration()\\n'"
      ]
     },
     "execution_count": 1,
     "metadata": {},
     "output_type": "execute_result"
    }
   ],
   "source": [
    "# Gate fidelity env\n",
    "\n",
    "import numpy as np\n",
    "from scipy.linalg import expm\n",
    "import math\n",
    "from qiskit import IBMQ\n",
    "from qiskit.tools.jupyter import *\n",
    "\n",
    "'''\n",
    "provider = IBMQ.load_account()\n",
    "armonk = provider.get_backend(\"ibmq_armonk\")\n",
    "armonk\n",
    "armonk.configuration()\n",
    "'''"
   ]
  },
  {
   "cell_type": "code",
   "execution_count": 2,
   "metadata": {},
   "outputs": [],
   "source": [
    "# pauli-matrices initialization \n",
    "sx = np.mat('0, 1;1, 0')\n",
    "sy = np.mat('0, -1j;1j, 0')\n",
    "sz = np.mat('1, 0;0, -1')\n",
    "\n",
    "# set target and initial gate --> future: want to make user-input target gate\n",
    "# currently going from Pauli-X to Hadamard\n",
    "\n",
    "U_0 = np.array(np.identity(2,dtype=complex)) # initial gate\n",
    "U_target = sx # target gate\n",
    "\n",
    "qubit_freq = 4.71 # will load this from qiskit soon"
   ]
  },
  {
   "cell_type": "code",
   "execution_count": 3,
   "metadata": {},
   "outputs": [],
   "source": [
    "class Env(object):\n",
    "    def __init__(self, dt=0.1): # two values in action space\n",
    "        super(Env, self).__init__()\n",
    "        self.n_features = 4 # correlated to neural network code\n",
    "        self.state = np.array([1,0,0,0])\n",
    "        self.nstep = 0 \n",
    "        self.dt=dt\n",
    "\n",
    "    def reset(self):\n",
    "        self.state = np.array([1,0,0,0])\n",
    "        self.nstep = 0 \n",
    "        return self.state\n",
    "\n",
    "    def step(self, action, coefficient):\n",
    "      \n",
    "        psi = np.array([self.state[0:int(len(self.state) / 2)] + self.state[int(len(self.state) / 2):int(len(self.state))] * 1j])\n",
    "        psi = psi.T\n",
    "        psi=np.array(psi)\n",
    "\n",
    "        H =  qubit_freq*sz/2 + coefficient*sx\n",
    "        U = expm(-1j * H * self.dt) \n",
    "        \n",
    "        global U_0\n",
    "        U_0 = U * U_0\n",
    "\n",
    "        psi = U_0 * psi\n",
    "\n",
    "        err = 1-abs(np.trace(U_target.H*U_0)/2)**2 # gate fidelity error calculation\n",
    "        rwd = 10 * (err<0.5)+100 * (err<0.1)+5000*(err < 10e-3)   \n",
    "\n",
    "        done =( (err < 10e-3) or self.nstep>=np.pi/self.dt ) \n",
    "        self.nstep +=1  \n",
    "\n",
    "        psi=np.array(psi)\n",
    "        psi_T = psi.T\n",
    "        self.state = np.array(psi_T.real.tolist()[0] + psi_T.imag.tolist()[0])\n",
    "\n",
    "        return self.state, rwd, done, 1-err\n"
   ]
  },
  {
   "cell_type": "code",
   "execution_count": 4,
   "metadata": {},
   "outputs": [],
   "source": [
    "#testing cell\n",
    "#net = Env()\n",
    "#net.step(1, .40)"
   ]
  }
 ],
 "metadata": {
  "kernelspec": {
   "display_name": "Python 3",
   "language": "python",
   "name": "python3"
  },
  "language_info": {
   "codemirror_mode": {
    "name": "ipython",
    "version": 3
   },
   "file_extension": ".py",
   "mimetype": "text/x-python",
   "name": "python",
   "nbconvert_exporter": "python",
   "pygments_lexer": "ipython3",
   "version": "3.8.5"
  }
 },
 "nbformat": 4,
 "nbformat_minor": 4
}
