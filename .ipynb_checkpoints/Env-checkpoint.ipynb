{
 "cells": [
  {
   "cell_type": "code",
   "execution_count": 1,
   "metadata": {},
   "outputs": [
    {
     "data": {
      "text/plain": [
       "'\\nprovider = IBMQ.load_account()\\narmonk = provider.get_backend(\"ibmq_armonk\")\\narmonk\\narmonk.configuration()\\n'"
      ]
     },
     "execution_count": 1,
     "metadata": {},
     "output_type": "execute_result"
    }
   ],
   "source": [
    "# State fidelity\n",
    "\n",
    "import numpy as np\n",
    "from scipy.linalg import expm\n",
    "import math\n",
    "from qiskit import IBMQ\n",
    "from qiskit.tools.jupyter import *\n",
    "from numpy import ndarray\n",
    "\n",
    "class myarray(ndarray):    \n",
    "    @property\n",
    "    def H(self):\n",
    "        return self.conj().T\n",
    "'''\n",
    "provider = IBMQ.load_account()\n",
    "armonk = provider.get_backend(\"ibmq_armonk\")\n",
    "armonk\n",
    "armonk.configuration()\n",
    "'''"
   ]
  },
  {
   "cell_type": "code",
   "execution_count": 2,
   "metadata": {},
   "outputs": [],
   "source": [
    "# pauli-matrices initialization \n",
    "sx = np.mat('0, 1;1, 0')\n",
    "sy = np.mat('0, -1j;1j, 0')\n",
    "sz = np.mat('1, 0;0, -1')\n",
    "\n",
    "# set target and initial state --> future: want to make user-input target\n",
    "# currently --> going from Pauli-X to Hadamard\n",
    "psi_target = np.mat([[0], [1]], dtype=complex) \n",
    "psi_0 = np.mat([[1], [0]], dtype=complex) \n",
    "\n",
    "qubit_freq = 4.71 # load this from qiskit\n",
    "U_0 = np.array(np.identity(2,dtype=complex))\n"
   ]
  },
  {
   "cell_type": "code",
   "execution_count": 3,
   "metadata": {},
   "outputs": [],
   "source": [
    "class Env(object):\n",
    "    def __init__(self, dt=0.1): # two values in action space\n",
    "        super(Env, self).__init__()\n",
    "        self.n_features = 4 # correlated to neural network code\n",
    "        self.state = np.array([1,0,0,0])\n",
    "        self.nstep = 0 \n",
    "        self.dt=dt\n",
    "        self.iter = 10\n",
    "        \n",
    "    def reset(self):\n",
    "        self.state = np.array([1,0,0,0])\n",
    "        self.nstep = 0 \n",
    "        return self.state\n",
    "\n",
    "    def step(self, action, coefficient):\n",
    "        \n",
    "        psi = np.array([self.state[0:int(len(self.state) / 2)] + self.state[int(len(self.state) / 2):int(len(self.state))] * 1j])\n",
    "        psi = psi.T\n",
    "        psi=np.mat(psi)\n",
    "        \n",
    "        H =  qubit_freq*sz/2 + coefficient*sx\n",
    "        U = expm(-1j * H * self.dt)\n",
    "        \n",
    "        global U_0\n",
    "        if (self.nstep == 0):\n",
    "            U_0 = U\n",
    "        else:\n",
    "            U_0 = U * U_0\n",
    "        \n",
    "        psi = U_0 * psi\n",
    "        \n",
    "        err = 1 - (np.abs(psi.H * psi_target) ** 2).item(0).real     # state fidelity error calculation\n",
    "        if (self.nstep % self.iter == self.iter-1):\n",
    "            rwd = 10 * (err<0.5)+100 * (err<0.1)+5000*(err < 10e-3)   \n",
    "        else:\n",
    "            rwd = None\n",
    "            \n",
    "        done =( (err < 10e-3) or self.nstep>=np.pi/self.dt ) \n",
    "        self.nstep +=1  \n",
    "        \n",
    "        psi=np.array(psi)\n",
    "        psi_T = psi.T\n",
    "        self.state = np.array(psi_T.real.tolist()[0] + psi_T.imag.tolist()[0])\n",
    "        \n",
    "        return self.state, rwd, done, 1-err\n"
   ]
  },
  {
   "cell_type": "code",
   "execution_count": null,
   "metadata": {},
   "outputs": [],
   "source": []
  }
 ],
 "metadata": {
  "kernelspec": {
   "display_name": "Python 3",
   "language": "python",
   "name": "python3"
  },
  "language_info": {
   "codemirror_mode": {
    "name": "ipython",
    "version": 3
   },
   "file_extension": ".py",
   "mimetype": "text/x-python",
   "name": "python",
   "nbconvert_exporter": "python",
   "pygments_lexer": "ipython3",
   "version": "3.8.5"
  }
 },
 "nbformat": 4,
 "nbformat_minor": 4
}
