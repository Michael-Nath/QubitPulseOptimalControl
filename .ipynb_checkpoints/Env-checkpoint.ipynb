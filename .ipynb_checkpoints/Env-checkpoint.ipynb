{
 "cells": [
  {
   "cell_type": "code",
   "execution_count": 1,
   "metadata": {},
   "outputs": [
    {
     "data": {
      "text/plain": [
       "'\\nprovider = IBMQ.load_account()\\narmonk = provider.get_backend(\"ibmq_armonk\")\\narmonk\\narmonk.configuration()\\n'"
      ]
     },
     "execution_count": 1,
     "metadata": {},
     "output_type": "execute_result"
    }
   ],
   "source": [
    "# State fidelity\n",
    "\n",
    "import numpy as np\n",
    "from scipy.linalg import expm\n",
    "import math\n",
    "from qiskit import IBMQ\n",
    "from qiskit.tools.jupyter import *\n",
    "\n",
    "'''\n",
    "provider = IBMQ.load_account()\n",
    "armonk = provider.get_backend(\"ibmq_armonk\")\n",
    "armonk\n",
    "armonk.configuration()\n",
    "'''"
   ]
  },
  {
   "cell_type": "code",
   "execution_count": 2,
   "metadata": {},
   "outputs": [],
   "source": [
    "# pauli-matrices initialization \n",
    "sx = np.mat('0, 1;1, 0')\n",
    "sy = np.mat('0, -1j;1j, 0')\n",
    "sz = np.mat('1, 0;0, -1')\n",
    "\n",
    "# set target and initial state --> future: want to make user-input target state\n",
    "# currently going from |0> to |1>\n",
    "\n",
    "psi_0 = np.mat([[1],[0]], dtype=complex)\n",
    "psi_target = np.mat([[0],[1]], dtype=complex)\n",
    "\n",
    "\n",
    "qubit_freq = 4.71 # will load this from qiskit soon\n",
    "\n"
   ]
  },
  {
   "cell_type": "code",
   "execution_count": 4,
   "metadata": {},
   "outputs": [],
   "source": [
    "class Env(object):\n",
    "    def __init__(self, dt=0.1): # two values in action space\n",
    "        super(Env, self).__init__()\n",
    "        self.n_features = 4 # correlated to neural network code\n",
    "        self.state = np.array([1,0,0,0])\n",
    "        self.nstep = 0 \n",
    "        self.dt=dt\n",
    "\n",
    "    def reset(self):\n",
    "        self.state = np.array([1,0,0,0])\n",
    "        self.nstep = 0 \n",
    "        return self.state\n",
    "\n",
    "    def step(self, action, coefficient):\n",
    "      \n",
    "        # understand what psi does\n",
    "        psi = np.array([self.state[0:int(len(self.state) / 2)] + self.state[int(len(self.state) / 2):int(len(self.state))] * 1j])\n",
    "        psi = psi.T\n",
    "        psi=np.array(psi)\n",
    "\n",
    "        H =  qubit_freq*sz/2 + coefficient*sx\n",
    "        U = expm(-1j * H * self.dt) \n",
    "\n",
    "        psi = U * psi\n",
    "\n",
    "        err = 1 - (abs(s_.conj().T.dot(psi_target)[0,0]))**2\n",
    " # state fidelity error calculation\n",
    "        rwd = 10 * (err<0.5)+100 * (err<0.1)+5000*(err < 10e-3)   \n",
    "\n",
    "        done =( (err < 10e-3) or self.nstep>=np.pi/self.dt ) \n",
    "        self.nstep +=1  \n",
    "\n",
    "        psi=np.array(psi)\n",
    "        psi_T = psi.T\n",
    "        self.state = np.array(psi_T.real.tolist()[0] + psi_T.imag.tolist()[0])\n",
    "\n",
    "        return self.state, rwd, done, 1-err\n"
   ]
  },
  {
   "cell_type": "code",
   "execution_count": null,
   "metadata": {},
   "outputs": [],
   "source": [
    "#testing cell\n",
    "#net = Env()\n",
    "#net.step(1, .40)"
   ]
  },
  {
   "cell_type": "code",
   "execution_count": null,
   "metadata": {},
   "outputs": [],
   "source": []
  }
 ],
 "metadata": {
  "kernelspec": {
   "display_name": "Python 3",
   "language": "python",
   "name": "python3"
  },
  "language_info": {
   "codemirror_mode": {
    "name": "ipython",
    "version": 3
   },
   "file_extension": ".py",
   "mimetype": "text/x-python",
   "name": "python",
   "nbconvert_exporter": "python",
   "pygments_lexer": "ipython3",
   "version": "3.8.5"
  }
 },
 "nbformat": 4,
 "nbformat_minor": 4
}
