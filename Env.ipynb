{
 "cells": [
  {
   "cell_type": "code",
   "execution_count": 49,
   "metadata": {},
   "outputs": [
    {
     "data": {
      "text/plain": [
       "'\\nprovider = IBMQ.load_account()\\narmonk = provider.get_backend(\"ibmq_armonk\")\\narmonk\\narmonk.configuration()\\n'"
      ]
     },
     "execution_count": 49,
     "metadata": {},
     "output_type": "execute_result"
    }
   ],
   "source": [
    "# State fidelity\n",
    "\n",
    "import numpy as np\n",
    "from scipy.linalg import expm\n",
    "import math\n",
    "from qiskit import IBMQ\n",
    "from qiskit.tools.jupyter import *\n",
    "from numpy import ndarray\n",
    "\n",
    "class myarray(ndarray):    \n",
    "    @property\n",
    "    def H(self):\n",
    "        return self.conj().T\n",
    "'''\n",
    "provider = IBMQ.load_account()\n",
    "armonk = provider.get_backend(\"ibmq_armonk\")\n",
    "armonk\n",
    "armonk.configuration()\n",
    "'''"
   ]
  },
  {
   "cell_type": "code",
   "execution_count": 50,
   "metadata": {},
   "outputs": [],
   "source": [
    "# pauli-matrices initialization \n",
    "sx = np.mat('0, 1;1, 0')\n",
    "sy = np.mat('0, -1j;1j, 0')\n",
    "sz = np.mat('1, 0;0, -1')\n",
    "\n",
    "# set target and initial state --> future: want to make user-input target\n",
    "# currently --> going from Pauli-X to Hadamard\n",
    "psi_target = np.mat([[0],[1]], dtype=complex)\n",
    "psi_0 = np.mat([[1],[0]], dtype=complex)\n",
    "\n",
    "qubit_freq = 4.71# load this from qiskit\n",
    "U_0 = np.array(np.identity(2,dtype=complex))\n"
   ]
  },
  {
   "cell_type": "code",
   "execution_count": 84,
   "metadata": {},
   "outputs": [],
   "source": [
    "class Env(object):\n",
    "    def __init__(self, dt=0.1): # two values in action space\n",
    "        super(Env, self).__init__()\n",
    "        self.n_features = 4 # correlated to neural network code\n",
    "        self.state = np.array([1,0,0,0])\n",
    "        self.nstep = 0 \n",
    "        self.dt=dt\n",
    "        self.N = 10\n",
    "        \n",
    "    def reset(self):\n",
    "        self.state = np.array([1,0,0,0])\n",
    "        self.nstep = 0 \n",
    "        return self.state\n",
    "\n",
    "    def step(self, action, coefficient):\n",
    "        \n",
    "        psi = np.array([self.state[0:int(len(self.state) / 2)] + self.state[int(len(self.state) / 2):int(len(self.state))] * 1j])\n",
    "        psi = psi.T\n",
    "        psi=np.array(psi)\n",
    "        \n",
    "        H =  qubit_freq*sz/2 + coefficient*sx\n",
    "        U = expm(-1j * H * self.dt)\n",
    "        \n",
    "        global U_0\n",
    "        if (self.nstep == 0):\n",
    "            U_0 = U\n",
    "        else:\n",
    "            U_0 = U * U_0\n",
    "        psi = U_0 * psi\n",
    "        print(psi)\n",
    "        err = math.log10(1 - (np.abs(psi.view(myarray).H * psi_target) ** 2).item(0).real)  # state fidelity error calculation\n",
    "        if (self.nstep % 10 == 9):\n",
    "            rwd = 10 * (err<0.5)+100 * (err<0.1)+5000*(err < 10e-3)   \n",
    "        else:\n",
    "            rwd = None\n",
    "            \n",
    "        done =( (err < 10e-3) or self.nstep>=np.pi/self.dt ) \n",
    "        self.nstep +=1  \n",
    "\n",
    "        return self.state, rwd, done, 1-err\n"
   ]
  },
  {
   "cell_type": "code",
   "execution_count": 85,
   "metadata": {},
   "outputs": [
    {
     "name": "stdout",
     "output_type": "stream",
     "text": [
      "[[0.96744803-0.23293908j 0.        -0.09891256j]\n",
      " [0.        +0.j         0.        +0.j        ]]\n"
     ]
    },
    {
     "data": {
      "text/plain": [
       "(array([1, 0, 0, 0]), None, True, 1.0)"
      ]
     },
     "execution_count": 85,
     "metadata": {},
     "output_type": "execute_result"
    }
   ],
   "source": [
    "#testing cell\n",
    "net = Env()\n",
    "net.step(0, 1)"
   ]
  },
  {
   "cell_type": "code",
   "execution_count": 86,
   "metadata": {},
   "outputs": [
    {
     "name": "stdout",
     "output_type": "stream",
     "text": [
      "[[0.88639284-0.45224334j 0.        +0.j        ]\n",
      " [0.        +0.j         0.        +0.j        ]]\n",
      "(array([1, 0, 0, 0]), None, True, 1.0)\n",
      "2\n",
      "[[0.75636272-0.64655591j 0.        +0.j        ]\n",
      " [0.        +0.j         0.        +0.j        ]]\n",
      "(array([1, 0, 0, 0]), None, True, 1.0)\n",
      "3\n",
      "[[0.58448528-0.80505114j 0.        +0.j        ]\n",
      " [0.        +0.j         0.        +0.j        ]]\n",
      "(array([1, 0, 0, 0]), None, True, 1.0)\n",
      "4\n",
      "[[0.38027796-0.918828j 0.        +0.j      ]\n",
      " [0.        +0.j       0.        +0.j      ]]\n",
      "(array([1, 0, 0, 0]), None, True, 1.0)\n",
      "5\n",
      "[[ 0.15514804-0.98144435j -0.        +0.j        ]\n",
      " [ 0.        +0.j          0.        +0.j        ]]\n",
      "(array([1, 0, 0, 0]), None, True, 1.0)\n",
      "6\n",
      "[[-0.07823038-0.98932451j  0.        +0.j        ]\n",
      " [-0.        +0.j         -0.        +0.j        ]]\n",
      "(array([1, 0, 0, 0]), None, True, 1.0)\n",
      "7\n",
      "[[-0.30663089-0.9420107j  0.        +0.j       ]\n",
      " [ 0.        +0.j        -0.        +0.j       ]]\n",
      "(array([1, 0, 0, 0]), None, True, 1.0)\n",
      "8\n",
      "[[-0.51704168-0.8422361j  0.        +0.j       ]\n",
      " [ 0.        +0.j        -0.        +0.j       ]]\n",
      "(array([1, 0, 0, 0]), None, True, 1.0)\n",
      "9\n",
      "[[-0.69743974-0.69580784j  0.        +0.j        ]\n",
      " [ 0.        +0.j         -0.        +0.j        ]]\n",
      "(array([1, 0, 0, 0]), 5110, True, 1.0)\n",
      "10\n",
      "[[-0.83752456-0.51129921j  0.        +0.j        ]\n",
      " [ 0.        +0.j         -0.        +0.j        ]]\n",
      "(array([1, 0, 0, 0]), None, True, 1.0)\n",
      "11\n"
     ]
    }
   ],
   "source": [
    "for i in range(10):\n",
    "    print(net.step(0,i/10))\n",
    "    print(net.nstep)"
   ]
  },
  {
   "cell_type": "code",
   "execution_count": null,
   "metadata": {},
   "outputs": [],
   "source": []
  }
 ],
 "metadata": {
  "kernelspec": {
   "display_name": "Python 3",
   "language": "python",
   "name": "python3"
  },
  "language_info": {
   "codemirror_mode": {
    "name": "ipython",
    "version": 3
   },
   "file_extension": ".py",
   "mimetype": "text/x-python",
   "name": "python",
   "nbconvert_exporter": "python",
   "pygments_lexer": "ipython3",
   "version": "3.8.5"
  }
 },
 "nbformat": 4,
 "nbformat_minor": 4
}
